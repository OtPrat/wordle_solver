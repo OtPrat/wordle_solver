{
 "cells": [
  {
   "cell_type": "code",
   "execution_count": 1,
   "id": "6e293460",
   "metadata": {},
   "outputs": [],
   "source": [
    "%matplotlib widget"
   ]
  },
  {
   "cell_type": "code",
   "execution_count": 2,
   "id": "0221a797",
   "metadata": {},
   "outputs": [],
   "source": [
    "import numpy as np\n",
    "import string\n",
    "import matplotlib.pyplot as plt\n",
    "import itertools\n",
    "from scipy.stats import entropy\n",
    "from tqdm import tqdm\n",
    "import flammkuchen as fl\n",
    "from pathlib import Path\n",
    "from ipywidgets import IntSlider, interact, fixed, Text\n",
    "import pandas as pd\n",
    "import operator"
   ]
  },
  {
   "cell_type": "code",
   "execution_count": 3,
   "id": "4038e967",
   "metadata": {},
   "outputs": [],
   "source": [
    "#Load word lists\n",
    "with open('wordle-allowed-guesses.txt') as f:\n",
    "    valid = f.read().split('\\n')\n",
    "    \n",
    "with open('wordle-answers-alphabetical.txt') as f:\n",
    "    answers = f.read().split('\\n')"
   ]
  },
  {
   "cell_type": "code",
   "execution_count": 4,
   "id": "bd9568c9",
   "metadata": {},
   "outputs": [],
   "source": [
    "#Make list of letters\n",
    "letters = list(string.ascii_lowercase)"
   ]
  },
  {
   "cell_type": "markdown",
   "id": "62e1f420-f27d-49cb-a0bc-07c4a4a7655e",
   "metadata": {},
   "source": [
    "We first take a look at what the most common letters are within the pool of valid words:"
   ]
  },
  {
   "cell_type": "code",
   "execution_count": 5,
   "id": "9da182aa",
   "metadata": {},
   "outputs": [],
   "source": [
    "#Check letter frequencies among accepted guesses\n",
    "letter_freq = np.zeros(len(letters))\n",
    "\n",
    "for i, letter in enumerate(letters):\n",
    "    for word in valid:\n",
    "        if letter in word:\n",
    "            letter_freq[i]+=1\n",
    "        else:\n",
    "            pass\n",
    "        \n",
    "freq_sort = np.argsort(letter_freq)[::-1]"
   ]
  },
  {
   "cell_type": "code",
   "execution_count": 6,
   "id": "f0bc530d",
   "metadata": {},
   "outputs": [
    {
     "data": {
      "text/plain": [
       "Text(0, 0.5, 'Found in (% of words)')"
      ]
     },
     "execution_count": 6,
     "metadata": {},
     "output_type": "execute_result"
    },
    {
     "data": {
      "application/vnd.jupyter.widget-view+json": {
       "model_id": "d0a3581c720d4ea9ae478422953352fa",
       "version_major": 2,
       "version_minor": 0
      },
      "text/html": [
       "\n",
       "            <div style=\"display: inline-block;\">\n",
       "                <div class=\"jupyter-widgets widget-label\" style=\"text-align: center;\">\n",
       "                    Figure\n",
       "                </div>\n",
       "                <img src='data:image/png;base64,iVBORw0KGgoAAAANSUhEUgAAAoAAAAHgCAYAAAA10dzkAAAAOXRFWHRTb2Z0d2FyZQBNYXRwbG90bGliIHZlcnNpb24zLjQuMywgaHR0cHM6Ly9tYXRwbG90bGliLm9yZy/MnkTPAAAACXBIWXMAAA9hAAAPYQGoP6dpAAA18ElEQVR4nO3de1iUdeL//9eIgigHxQOIkaJiSZ5SSlELOmBrppVe1XpISDPTtNA1D6sVmYFZ4SFbK7eMdnNt09qt3Ey3hCzSVHQ/pq6ZimKCVCLgIVC4f3/4c76S2TII3OO8n4/rmuvyfs/cb143yPjyfc8947AsyxIAAACMUcfuAAAAAKhdFEAAAADDUAABAAAMQwEEAAAwDAUQAADAMBRAAAAAw1AAAQAADEMBBAAAMAwFEAAAwDAUQAAAAMNQAAEAAAxDAQQAADAMBRAAAMAwFEAAAADDUAABAAAMQwEEAAAwDAUQAADAMBRAAAAAw1AAAQAADEMBBAAAMAwFEAAAwDAUQAAAAMNQAAEAAAxDAQQAADAMBRAAAMAwFEAAAADDUAABAAAMQwEEAAAwDAUQAADAMBRAAAAAw1AAAQAADEMBBAAAMAwFEAAAwDAUQAAAAMNQAAEAAAxDAQQAADAMBRAAAMAwFEAAAADDUAABAAAMQwEEAAAwDAUQAADAMBRAAAAAw1AAAQAADEMBBAAAMAwFEAAAwDAUQAAAAMNQAAEAAAxDAQQAADAMBRAAAMAwFEAAAADDUAABAAAMQwEEAAAwDAUQAADAMBRAAAAAw1AAAQAADEMBBAAAMExduwNczsrLy3X48GH5+/vL4XDYHQcAAFSCZVkqLi5WaGio6tQxcy2MAngJDh8+rLCwMLtjAACAKsjJydEVV1xhdwxbUAAvgb+/v6Szf4ECAgJsTgMAACqjqKhIYWFhzn/HTUQBvATnTvsGBARQAAEAuMyY/PItM098AwAAGIwCCAAAYBgKIAAAgGEogAAAAIahAAIAABiGAggAAGAYCiAAAIBhKIAAAACGoQACAAAYxmMLYFJSkhwOR4VbSEiI837LspSUlKTQ0FD5+voqNjZWO3bssDExAABA7fDYAihJ11xzjXJzc5237du3O++bO3euUlNTtWjRIm3atEkhISGKi4tTcXGxjYkBAABqnkcXwLp16yokJMR5a9asmaSzq3/z58/XjBkzNGjQIHXs2FFpaWk6efKkli1bZnNqAACAmuXRBXDPnj0KDQ1VeHi4fv/732vfvn2SpP379ysvL099+/Z1PtbHx0cxMTHKzMy0Ky4AAECtqGt3gJrSo0cPvfXWW2rfvr2OHDmi2bNnq1evXtqxY4fy8vIkScHBwRX2CQ4O1oEDBy46Z0lJiUpKSpzbRUVFNRMeAACgBnlsAezXr5/zz506dVJ0dLTatm2rtLQ09ezZU5LkcDgq7GNZ1gVj50tJSdHTTz9dM4F/Retpq6q0X/ac/tWcBAAAeBKPPgV8voYNG6pTp07as2eP82rgcyuB5+Tn51+wKni+6dOnq7Cw0HnLycmp0cwAAAA1wZgCWFJSol27dqlFixYKDw9XSEiI1q5d67y/tLRUGRkZ6tWr10Xn8PHxUUBAQIUbAADA5cZjTwFPnjxZAwYM0JVXXqn8/HzNnj1bRUVFio+Pl8PhUGJiopKTkxUREaGIiAglJyerQYMGGjp0qN3RAQAAapTHFsBDhw5pyJAh+vHHH9WsWTP17NlTGzZsUKtWrSRJU6ZM0alTpzRu3DgVFBSoR48eWrNmjfz9/W1ODgAAULMclmVZdoe4XBUVFSkwMFCFhYU1cjqYi0AAAKh+Nf3v9+XAmNcAAgAA4CwKIAAAgGEogAAAAIahAAIAABiGAggAAGAYCiAAAIBhKIAAAACGoQACAAAYhgIIAABgGAogAACAYSiAAAAAhqEAAgAAGIYCCAAAYBgKIAAAgGEogAAAAIahAAIAABiGAggAAGAYCiAAAIBhKIAAAACGoQACAAAYhgIIAABgGAogAACAYSiAAAAAhqEAAgAAGIYCCAAAYBgKIAAAgGEogAAAAIahAAIAABiGAggAAGAYCiAAAIBhKIAAAACGoQACAAAYhgIIAABgGAogAACAYSiAAAAAhqEAAgAAGIYCCAAAYBgKIAAAgGHq2h0ANav1tFVV2i97Tv9qTgIAANwFK4AAAACGoQACAAAYhgIIAABgGAogAACAYSiAAAAAhqEAAgAAGIYCCAAAYBgKIAAAgGEogAAAAIahAAIAABiGAggAAGAYCiAAAIBhKIAAAACGoQACAAAYhgIIAABgmLp2B4D7az1tVZX2y57Tv5qTAACA6sAKIAAAgGEogAAAAIahAAIAABiGAggAAGAYCiAAAIBhjCiAKSkpcjgcSkxMdI5ZlqWkpCSFhobK19dXsbGx2rFjh30hAQAAaonHF8BNmzbptddeU+fOnSuMz507V6mpqVq0aJE2bdqkkJAQxcXFqbi42KakAAAAtcOjC+Dx48c1bNgwLVmyRI0bN3aOW5al+fPna8aMGRo0aJA6duyotLQ0nTx5UsuWLbMxMQAAQM3z6AL4yCOPqH///rr11lsrjO/fv195eXnq27evc8zHx0cxMTHKzMy86HwlJSUqKiqqcAMAALjceOwngSxfvlxZWVnatGnTBffl5eVJkoKDgyuMBwcH68CBAxedMyUlRU8//XT1BgUAAKhlHrkCmJOTo8cee0x//etfVb9+/Ys+zuFwVNi2LOuCsfNNnz5dhYWFzltOTk61ZQYAAKgtHrkCuGXLFuXn56t79+7OsbKyMn3++edatGiRdu/eLensSmCLFi2cj8nPz79gVfB8Pj4+8vHxqbngAAAAtcAjVwBvueUWbd++Xdu2bXPeoqKiNGzYMG3btk1t2rRRSEiI1q5d69yntLRUGRkZ6tWrl43JAQAAap5HrgD6+/urY8eOFcYaNmyoJk2aOMcTExOVnJysiIgIRUREKDk5WQ0aNNDQoUPtiAwAAFBrPLIAVsaUKVN06tQpjRs3TgUFBerRo4fWrFkjf39/u6MBAADUKGMKYHp6eoVth8OhpKQkJSUl2ZIHAADALh75GkAAAABcHAUQAADAMBRAAAAAw1AAAQAADEMBBAAAMAwFEAAAwDAUQAAAAMNQAAEAAAxDAQQAADAMBRAAAMAwFEAAAADDUAABAAAMQwEEAAAwDAUQAADAMBRAAAAAw1AAAQAADFPX7gC/dPr0aeXl5enkyZNq1qyZgoKC7I4EAADgUdxiBfD48eN69dVXFRsbq8DAQLVu3VqRkZFq1qyZWrVqpdGjR2vTpk12xwQAAPAIthfAefPmqXXr1lqyZIluvvlmvffee9q2bZt2796tr776Sk899ZTOnDmjuLg4/e53v9OePXvsjgwAAHBZs/0UcGZmptatW6dOnTr96v3XX3+9Ro4cqVdeeUWvv/66MjIyFBERUcspAQAAPIftBfDdd9+t1ON8fHw0bty4Gk4DAADg+Ww/BfxbioqK9I9//EO7du2yOwoAAIDHcKsCeO+992rRokWSpFOnTikqKkr33nuvOnfurJUrV9qcDgAAwDO4VQH8/PPPdcMNN0iS3n//fVmWpWPHjmnhwoWaPXu2zekAAAA8g1sVwMLCQuf7/q1evVqDBw9WgwYN1L9/f67+BQAAqCZuVQDDwsL01Vdf6cSJE1q9erX69u0rSSooKFD9+vVtTgcAAOAZbL8K+HyJiYkaNmyY/Pz81KpVK8XGxko6e2r4Ym8TAwAAANe4VQEcN26crr/+euXk5CguLk516pxdoGzTpg2vAQQAAKgmblUAJSkqKkpRUVEVxvr3729TGgAAAM9jewGcNGlSpR+bmppag0kAAADMYHsB3Lp1a4XtLVu2qKysTFdddZUk6dtvv5WXl5e6d+9uRzwAAACPY3sBXLdunfPPqamp8vf3V1pamho3bizp7BXADzzwgPP9AQEAAHBp3OptYF588UWlpKQ4y58kNW7cWLNnz9aLL75oYzIAAADP4VYFsKioSEeOHLlgPD8/X8XFxTYkAgAA8DxuVQDvvvtuPfDAA1qxYoUOHTqkQ4cOacWKFRo1apQGDRpkdzwAAACPYPtrAM/3yiuvaPLkyRo+fLhOnz4tSapbt65GjRql559/3uZ0AAAAnsFtCmBZWZk2bdqk2bNn6/nnn9fevXtlWZbatWunhg0b2h0PAADAY7hNAfTy8tJtt92mXbt2KTw8XJ07d7Y7EgAAgEdyq9cAdurUSfv27bM7BgAAgEdzqwL47LPPavLkyfroo4+Um5uroqKiCjcAAABcOrc5BSxJv/vd7yRJAwcOlMPhcI5bliWHw6GysjK7ogEAAHgMtyqA538qCAAAAGqGWxXAmJgYuyMAAAB4PLcqgJJ07Ngxvf7669q1a5ccDociIyM1cuRIBQYG2h0NAADAI7jVRSCbN29W27ZtNW/ePB09elQ//vijUlNT1bZtW2VlZdkdDwAAwCO41QrgxIkTNXDgQC1ZskR1656NdubMGT344INKTEzU559/bnNCAACAy59bFcDNmzdXKH/S2Y+CmzJliqKiomxMBgAA4Dnc6hRwQECADh48eMF4Tk6O/P39bUgEAADgedyqAN53330aNWqU3nnnHeXk5OjQoUNavny5HnzwQQ0ZMsTueAAAAB7BrU4Bv/DCC3I4HBoxYoTOnDkjSapXr57Gjh2rOXPm2JwOAADAM7hVAfT29taCBQuUkpKivXv3yrIstWvXTg0aNLA7GgAAgMdwqwK4du1a9e7dWw0aNFCnTp3sjgMAAOCR3KoADh48WCUlJerevbtiYmIUGxur3r17y8/Pz+5oAAAAHsOtLgIpKChQenq6Bg4cqK1bt+qee+5RUFCQevbsqWnTptkdDwAAwCO4VQH08vJSdHS0pk2bptWrVyszM1NDhw7Vli1b9Pzzz9sdDwAAwCO41SngXbt2KSMjQ+np6crIyFBZWZn69OmjF198UTExMXbHAwAA8AhuVQCvueYaNWvWTImJiXriiSd0zTXX2B0JAADA47jVKeBHH31ULVu2VFJSkkaOHKmpU6fq448/1vHjx+2OBgAA4DHcqgDOnz9fWVlZOnLkiGbOnKmysjI9+eSTatq0qXr27Gl3PAAAAI/gVgXwnPLycp05c0alpaUqKSnR6dOnlZ2d7dIcixcvVufOnRUQEKCAgABFR0fr448/dt5vWZaSkpIUGhoqX19fxcbGaseOHdV8JAAAAO7HrQrgY489pi5duqh58+YaM2aMDh8+rIceekj/+c9/lJeX59JcV1xxhebMmaPNmzdr8+bNuvnmm3XnnXc6S97cuXOVmpqqRYsWadOmTQoJCVFcXJyKi4tr4tAAAADchltdBPL9999r9OjRio2NVceOHS9prgEDBlTYfvbZZ7V48WJt2LBBkZGRmj9/vmbMmKFBgwZJktLS0hQcHKxly5ZpzJgxl/S18etaT1tVpf2y5/Sv5iQAAJjNrQrgihUramTesrIyvfvuuzpx4oSio6O1f/9+5eXlqW/fvs7H+Pj4KCYmRpmZmRRAAADg0dyqAFa37du3Kzo6Wj///LP8/Pz0/vvvKzIyUpmZmZKk4ODgCo8PDg7WgQMHLjpfSUmJSkpKnNtFRUU1ExwAAKAGudVrAKvbVVddpW3btmnDhg0aO3as4uPjtXPnTuf9DoejwuMty7pg7HwpKSkKDAx03sLCwmosOwAAQE3x6ALo7e2tdu3aKSoqSikpKerSpYsWLFigkJAQSbrgwpL8/PwLVgXPN336dBUWFjpvOTk5NZofAACgJtheABcuXKiff/5ZknTw4EFZllVjX8uyLJWUlCg8PFwhISFau3at877S0lJlZGSoV69eF93fx8fH+bYy524AAACXG9sL4KRJk5yvpQsPD9cPP/xQLfP+8Y9/1Pr165Wdna3t27drxowZSk9P17Bhw+RwOJSYmKjk5GS9//77+uabb5SQkKAGDRpo6NCh1fL1AQAA3JXtF4GEhoZq5cqVuv3222VZlg4dOuRcEfylK6+8stLzHjlyRPfff79yc3MVGBiozp07a/Xq1YqLi5MkTZkyRadOndK4ceNUUFCgHj16aM2aNfL396+W4wIAAHBXthfAmTNnasKECRo/frwcDoeuu+66Cx5z7uKMsrKySs/7+uuv/+b9DodDSUlJSkpKcjUyAADAZc32AvjQQw9pyJAhOnDggDp37qx///vfatKkid2xAAAAPJbtBVCS/P391bFjRy1dulS9e/eWj4+P3ZEAAAA8llsUwHPi4+MlSVu2bNGuXbvkcDjUoUMHdevWzeZkcBd8nBwAAJfOrQpgfn6+fv/73ys9PV2NGjWSZVkqLCzUTTfdpOXLl6tZs2Z2RwQAALjs2f42MOebMGGCioqKtGPHDh09elQFBQX65ptvVFRUpEcffdTueAAAAB7BrVYAV69erX//+9/q0KGDcywyMlIvv/yy+vbta2MyAAAAz+FWK4Dl5eWqV6/eBeP16tVTeXm5DYkAAAA8j1sVwJtvvlmPPfaYDh8+7Bz7/vvvNXHiRN1yyy02JgMAAPAcblUAFy1apOLiYrVu3Vpt27ZVu3btFB4eruLiYr300kt2xwMAAPAIbvUawLCwMGVlZWnt2rX673//K8uyFBkZqVtvvdXuaAAAAB7DrQrgOXFxcc7P7AVqAu8nCAAwmVudAgYAAEDNowACAAAYhgIIAABgGAogAACAYdzyIhBJWrVqldLT01VWVqbevXtr8ODBdkcCAADwCG65AvjEE09oypQpcjgcsixLEydO1Pjx4+2OBQAA4BHcYgVwy5Yt6t69u3P7nXfe0X/+8x/5+vpKkhISEhQbG6tFixbZFREAAMBjuMUK4EMPPaTExESdPHlSktSmTRulpqZq9+7d2r59uxYvXqz27dvbnBIAAMAzuEUB/PrrrxUSEqJu3brpww8/1BtvvKGsrCz16tVLN9xwgw4dOqRly5bZHRMAAMAjuMUpYC8vL02bNk333nuvxo4dq4YNG2rRokUKDQ21OxoAAIDHcYsVwHPatGmjTz75RHfddZduvPFGvfzyy3ZHAgAA8DhuUQALCws1depUDRgwQDNnztSgQYO0ceNGff311+rZs6e2b99ud0QAAACP4RYFMD4+Xhs2bFD//v21e/dujR07Vk2aNFFaWpqeffZZ3XvvvZo6dardMQEAADyCW7wG8NNPP9XWrVvVrl07jR49Wu3atXPed8sttygrK0vPPPOMjQkBAAA8h1usAEZEROi1117Tt99+q1deeUWtWrWqcL+vr6+Sk5NtSgcAAOBZ3KIAvvHGG/rss8907bXXatmyZVq8eLHdkQAAADyWW5wC7tq1qzZv3mx3DAAAACO4xQqgKyzLsjsCAADAZc32AtihQwctW7ZMpaWlv/m4PXv2aOzYsXruuedqKRkAAIBnsv0U8Msvv6ypU6fqkUceUd++fRUVFaXQ0FDVr19fBQUF2rlzp7744gvt3LlT48eP17hx4+yODAAAcFmzvQDefPPN2rRpkzIzM/XOO+9o2bJlys7O1qlTp9S0aVNde+21GjFihIYPH65GjRrZHRcAAOCyZ3sBPKdXr17q1auX3TEAAAA8nu2vAQQAAEDtogACAAAYhgIIAABgGAogAACAYSiAAAAAhnGbq4DPKS8v13fffaf8/HyVl5dXuO/GG2+0KRUAAIDncKsCuGHDBg0dOlQHDhy44CPfHA6HysrKbEoGAADgOdyqAD788MOKiorSqlWr1KJFCzkcDrsjAQAAeBy3KoB79uzRihUr1K5dO7ujAAAAeCy3KoA9evTQd999RwHEZaH1tFVV2i97Tv9qTgIAgGvcqgBOmDBBf/jDH5SXl6dOnTqpXr16Fe7v3LmzTckAAAA8h1sVwMGDB0uSRo4c6RxzOByyLIuLQAAAAKqJWxXA/fv32x0BAADA47lVAWzVqpXdEQAAADye7QXwgw8+UL9+/VSvXj198MEHv/nYgQMH1lIqAAAAz2V7AbzrrruUl5en5s2b66677rro43gNIAAAQPWwvQCe/3Fvv/zoN8AEvJ0MAKC21bE7AAAAAGoXBRAAAMAwFEAAAADDUAABAAAMQwEEAAAwjO1XARcVFVX6sQEBATWYBAAAwAy2F8BGjRrJ4XBU6rG8DyAAAMCls70Arlu3zvnn7OxsTZs2TQkJCYqOjpYkffXVV0pLS1NKSopdEQG3x3sJAgBcYXsBjImJcf551qxZSk1N1ZAhQ5xjAwcOVKdOnfTaa68pPj7ejogAAAAexa0uAvnqq68UFRV1wXhUVJS+/vprGxIBAAB4HrcqgGFhYXrllVcuGH/11VcVFhbm0lwpKSm67rrr5O/v7/yc4d27d1d4jGVZSkpKUmhoqHx9fRUbG6sdO3Zc0jEAAAC4O9tPAZ9v3rx5Gjx4sD755BP17NlTkrRhwwbt3btXK1eudGmujIwMPfLII7ruuut05swZzZgxQ3379tXOnTvVsGFDSdLcuXOVmpqqN998U+3bt9fs2bMVFxen3bt3y9/fv9qPDwAAwB24VQG8/fbbtWfPHv3pT3/Sf//7X1mWpTvvvFMPP/ywyyuAq1evrrC9dOlSNW/eXFu2bNGNN94oy7I0f/58zZgxQ4MGDZIkpaWlKTg4WMuWLdOYMWOq7bgAAADciVsVQEm64oorlJycXO3zFhYWSpKCgoIkSfv371deXp769u3rfIyPj49iYmKUmZn5qwWwpKREJSUlzm1X3sMQAADAXbhdATx27Ji+/vpr5efnq7y8vMJ9I0aMqNKclmVp0qRJ6tOnjzp27ChJysvLkyQFBwdXeGxwcLAOHDjwq/OkpKTo6aefrlIGAAAAd+FWBfDDDz/UsGHDdOLECfn7+1d4g2iHw1HlAjh+/Hj93//9n7744osL7vvlm1BblnXRN6aePn26Jk2a5NwuKipy+dQ0AACA3dzqKuA//OEPGjlypIqLi3Xs2DEVFBQ4b0ePHq3SnBMmTNAHH3ygdevW6YorrnCOh4SESPp/K4Hn5OfnX7AqeI6Pj48CAgIq3AAAAC43blUAv//+ez366KNq0KDBJc9lWZbGjx+v9957T5999pnCw8Mr3B8eHq6QkBCtXbvWOVZaWqqMjAz16tXrkr8+AACAu3KrU8C33XabNm/erDZt2lzyXI888oiWLVumf/7zn/L393eu9AUGBsrX11cOh0OJiYlKTk5WRESEIiIilJycrAYNGmjo0KGX/PUBAADclVsVwP79++vxxx/Xzp071alTJ9WrV6/C/QMHDqz0XIsXL5YkxcbGVhhfunSpEhISJElTpkzRqVOnNG7cOBUUFKhHjx5as2YN7wEIAAA8mlsVwNGjR0s6+5nAv+RwOFRWVlbpuSzL+p+PcTgcSkpKUlJSUqXnBQAAuNy5VQH85du+AAAAoPq51UUgAAAAqHlutQL4a6d+z/fkk0/WUhIAAADP5VYF8P3336+wffr0ae3fv19169ZV27ZtKYBADWs9bVWV9sue07+akwAAapJbFcCtW7deMFZUVKSEhATdfffdNiQCAADwPG7/GsCAgADNmjVLTzzxhN1RAAAAPILbF0BJOnbsmAoLC+2OAQAA4BHc6hTwwoULK2xblqXc3Fz95S9/0e9+9zubUgFwBa8jBAD351YFcN68eRW269Spo2bNmik+Pl7Tp0+3KRUAAIBncasCuH//frsjAAAAeDy3fQ3goUOH9P3339sdAwAAwOO4VQEsLy/XrFmzFBgYqFatWunKK69Uo0aN9Mwzz/AxcQAAANXErU4Bz5gxQ6+//rrmzJmj3r17y7Isffnll0pKStLPP/+sZ5991u6IAAAAlz23KoBpaWn685//rIEDBzrHunTpopYtW2rcuHEUQAAAgGrgVqeAjx49qquvvvqC8auvvlpHjx61IREAAIDncasC2KVLFy1atOiC8UWLFqlLly42JAIAAPA8bnUKeO7cuerfv7/+/e9/Kzo6Wg6HQ5mZmcrJydG//vUvu+MBAAB4BLdaAYyJidG3336ru+++W8eOHdPRo0c1aNAg7d69WzfccIPd8QAAADyCW6wA7tu3T+Hh4XI4HAoNDeViDwAAgBrkFiuAERER+uGHH5zb9913n44cOWJjIgAAAM/lFgXQsqwK2//617904sQJm9IAAAB4NrcogAAAAKg9blEAHQ6HHA7HBWMAAACofm5xEYhlWUpISJCPj48k6eeff9bDDz+shg0bVnjce++9Z0c8AAAAj+IWBTA+Pr7C9vDhw21KAgAA4PncogAuXbrU7ggAAADGcIvXAAIAAKD2uMUKIAD8Uutpq6q0X/ac/tWcBAA8DyuAAAAAhqEAAgAAGIZTwAA8FqeRAeDXsQIIAABgGFYAAeB/YCURgKdhBRAAAMAwFEAAAADDUAABAAAMQwEEAAAwDBeBAEAt4EISAO6EFUAAAADDUAABAAAMQwEEAAAwDAUQAADAMBRAAAAAw1AAAQAADEMBBAAAMAwFEAAAwDC8ETQAXEZ4Q2kA1YEVQAAAAMNQAAEAAAxDAQQAADAMBRAAAMAwXAQCAIbhQhIAFEAAQJVUR5GkjAL24BQwAACAYSiAAAAAhqEAAgAAGIYCCAAAYBgKIAAAgGEogAAAAIbx2AL4+eefa8CAAQoNDZXD4dA//vGPCvdblqWkpCSFhobK19dXsbGx2rFjhz1hAQAAapHHFsATJ06oS5cuWrRo0a/eP3fuXKWmpmrRokXatGmTQkJCFBcXp+Li4lpOCgAAULs89o2g+/Xrp379+v3qfZZlaf78+ZoxY4YGDRokSUpLS1NwcLCWLVumMWPG1GZUAACAWuWxK4C/Zf/+/crLy1Pfvn2dYz4+PoqJiVFmZqaNyQAAAGqex64A/pa8vDxJUnBwcIXx4OBgHThw4KL7lZSUqKSkxLldVFRUMwEBAABqkJErgOc4HI4K25ZlXTB2vpSUFAUGBjpvYWFhNR0RAACg2hlZAENCQiT9v5XAc/Lz8y9YFTzf9OnTVVhY6Lzl5OTUaE4AAICaYGQBDA8PV0hIiNauXescKy0tVUZGhnr16nXR/Xx8fBQQEFDhBgAAcLnx2NcAHj9+XN99951ze//+/dq2bZuCgoJ05ZVXKjExUcnJyYqIiFBERISSk5PVoEEDDR061MbUAAAANc9jC+DmzZt10003ObcnTZokSYqPj9ebb76pKVOm6NSpUxo3bpwKCgrUo0cPrVmzRv7+/nZFBgAAqBUeWwBjY2NlWdZF73c4HEpKSlJSUlLthQIAAHADRr4GEAAAwGQUQAAAAMNQAAEAAAxDAQQAADAMBRAAAMAwFEAAAADDUAABAAAMQwEEAAAwDAUQAADAMB77SSAAAHO0nraqSvtlz+lfzUmAywMrgAAAAIahAAIAABiGU8AAAIjTyDALK4AAAACGoQACAAAYhgIIAABgGAogAACAYSiAAAAAhqEAAgAAGIYCCAAAYBgKIAAAgGEogAAAAIahAAIAABiGAggAAGAYCiAAAIBhKIAAAACGoQACAAAYhgIIAABgGAogAACAYeraHQAAAE/SetqqKu2XPad/NScBLo4VQAAAAMNQAAEAAAxDAQQAADAMBRAAAMAwFEAAAADDUAABAAAMQwEEAAAwDAUQAADAMBRAAAAAw1AAAQAADEMBBAAAMAyfBQwAgJvh84RR01gBBAAAMAwFEAAAwDAUQAAAAMNQAAEAAAxDAQQAADAMVwEDAOChuJoYF0MBBAAAF0WJ9EycAgYAADAMBRAAAMAwFEAAAADDUAABAAAMQwEEAAAwDAUQAADAMBRAAAAAw1AAAQAADEMBBAAAMAwFEAAAwDB8FBwAAKhRfJyc+zF+BfBPf/qTwsPDVb9+fXXv3l3r16+3OxIAAECNMroAvvPOO0pMTNSMGTO0detW3XDDDerXr58OHjxodzQAAIAaY3QBTE1N1ahRo/Tggw+qQ4cOmj9/vsLCwrR48WK7owEAANQYY18DWFpaqi1btmjatGkVxvv27avMzMxf3aekpEQlJSXO7cLCQklSUVFRjWQsLzlZpf3Oz+Muc5CFLGQhC1nMzVJdx1Ndzs1rWVaNzH85cFiGHv3hw4fVsmVLffnll+rVq5dzPDk5WWlpadq9e/cF+yQlJenpp5+uzZgAAKCG5OTk6IorrrA7hi2MXQE8x+FwVNi2LOuCsXOmT5+uSZMmObfLy8t19OhRNWnS5KL71ISioiKFhYUpJydHAQEBl/UcZCELWchCFnOzVNfxuMqyLBUXFys0NLTWvqa7MbYANm3aVF5eXsrLy6swnp+fr+Dg4F/dx8fHRz4+PhXGGjVqVFMR/6eAgIBL/oVxlznIQhaykIUs5mapruNxRWBgYK1+PXdj7EUg3t7e6t69u9auXVthfO3atRVOCQMAAHgaY1cAJWnSpEm6//77FRUVpejoaL322ms6ePCgHn74YbujAQAA1BijC+B9992nn376SbNmzVJubq46duyof/3rX2rVqpXd0X6Tj4+PnnrqqQtOR1+Oc5CFLGQhC1nMzVJdxwPXGXsVMAAAgKmMfQ0gAACAqSiAAAAAhqEAAgAAGIYCCJwnNjZWiYmJbjOPJ+N7VD2q4/voTj8Ld8pyjmVZeuihhxQUFCSHw6Ft27bZHemSJSQk6K677rI7Bmxk9FXAwC+99957qlevnt0xJJ39h7Br166aP3++3VEAo61evVpvvvmm0tPT1aZNGzVt2tTuSJdswYIFRn8OLiiA8FClpaXy9vZ2eb+goKAaSAPgcrZ37161aNHCoz4kwPRPwQCngC87K1asUKdOneTr66smTZro1ltv1YkTJ1yaw7IszZ07V23atJGvr6+6dOmiFStWuDTH6tWr1adPHzVq1EhNmjTRHXfcob1797o0R0lJiR599FE1b95c9evXV58+fbRp0yaX5jgnNjZW48eP16RJk9S0aVPFxcVVeR53OP2UkJCgjIwMLViwQA6HQw6HQ9nZ2ZXePzY2Vo8++qimTJmioKAghYSEKCkpyeUcrVu3vmAFsmvXri7PdeLECY0YMUJ+fn5q0aKFXnzxRZf2f+utt9SkSROVlJRUGB88eLBGjBjxP/ePjY3VhAkTlJiYqMaNGys4OFivvfaaTpw4oQceeED+/v5q27atPv7440rlOff3bfz48c7fgZkzZ7q8olJeXq7nnntO7dq1k4+Pj6688ko9++yzLs1xbp5L/VmfOXPmko+nuLhYw4YNU8OGDdWiRQvNmzfvkn+nVq9ercDAQL311lv/87EffvihGjVqpPLycknStm3b5HA49PjjjzsfM2bMGA0ZMqTSXz8hIUETJkzQwYMH5XA41Lp1a5fyv/rqq2rZsqUz0zkDBw5UfHx8pefJzs52Phecf4uNjXUpzzlVPQX8ww8/KCQkRMnJyc6xjRs3ytvbW2vWrHFprl97XnCX52ATUAAvI7m5uRoyZIhGjhypXbt2KT09XYMGDXL5SXrmzJlaunSpFi9erB07dmjixIkaPny4MjIyKj3HiRMnNGnSJG3atEmffvqp6tSpo7vvvvuCJ7nfMmXKFK1cuVJpaWnKyspSu3btdNttt+no0aMuHc85aWlpqlu3rr788ku9+uqrVZrDXSxYsEDR0dEaPXq0cnNzlZubq7CwMJfmSEtLU8OGDbVx40bNnTtXs2bNuuCjD2vL448/rnXr1un999/XmjVrlJ6eri1btlR6/3vuuUdlZWX64IMPnGM//vijPvroIz3wwAOVmiMtLU1NmzbV119/rQkTJmjs2LG655571KtXL2VlZem2227T/fffr5MnT1Z6vrp162rjxo1auHCh5s2bpz//+c+VPiZJmj59up577jk98cQT2rlzp5YtW3bRzyL/X1ku9WddHcczadIkffnll/rggw+0du1arV+/XllZWS7Ncb7ly5fr3nvv1VtvvVWpon/jjTequLhYW7dulSRlZGSoadOmFZ7b0tPTFRMTU+kMCxYs0KxZs3TFFVcoNzfX5f+k3nPPPfrxxx+1bt0651hBQYE++eQTDRs2rNLzhIWFOZ8LcnNztXXrVjVp0kQ33nijS3kuVbNmzfTGG28oKSlJmzdv1vHjxzV8+HCNGzdOffv2dWmuS31ewCWycNnYsmWLJcnKzs6u8hzHjx+36tevb2VmZlYYHzVqlDVkyJAqz5ufn29JsrZv317pHPXq1bPefvtt51hpaakVGhpqzZ071+WvHxMTY3Xt2tXl/X5tnscee8wt5rmUOWJiYqw+ffpUGLvuuuusqVOnujRPq1atrHnz5lUY69Kli/XUU09Veo7i4mLL29vbWr58uXPsp59+snx9fV06vrFjx1r9+vVzbs+fP99q06aNVV5e/j/3/eX348yZM1bDhg2t+++/3zmWm5trSbK++uqrSs3XoUOHCl976tSpVocOHSp7OFZRUZHl4+NjLVmypNL7XCzLpf6sq+t46tWrZ7377rvOsWPHjlkNGjRw6ed87u/9yy+/bAUGBlqfffZZpfe1LMvq1q2b9cILL1iWZVl33XWX9eyzz1re3t5WUVGR82e8a9cul+acN2+e1apVK5f2Od/AgQOtkSNHOrdfffVVKyQkxDpz5kyV5jt16pTVo0cP64477rDKysqqNEd8fLx15513Vmlfy7KscePGWe3bt7eGDRtmdezY0Tp16pRL+1fX8wKqjhXAy0iXLl10yy23qFOnTrrnnnu0ZMkSFRQUuDTHzp079fPPPysuLk5+fn7O21tvveXSKdy9e/dq6NChatOmjQICAhQeHi5JOnjwYKX3P336tHr37u0cq1evnq6//nrt2rXLpWM6Jyoqqkr7earOnTtX2G7RooXy8/NrPcfevXtVWlqq6Oho51hQUJCuuuoql+YZPXq01qxZo++//16StHTpUiUkJMjhcFRq//O/H15eXmrSpIk6derkHDu38lbZ71HPnj0rfO3o6Gjt2bNHZWVlldp/165dKikp0S233FKpx/+W6vhZX+rx7Nu3T6dPn9b111/vHAsMDHT55yxJK1euVGJiotasWaObbrrJpX1jY2OVnp4uy7K0fv163XnnnerYsaO++OILrVu3TsHBwbr66qtdznQphg0bppUrVzpfwvD222/r97//vby8vKo036hRo1RcXKxly5apTh17/hl/4YUXdObMGf3973/X22+/rfr167u0f3U9L6DqKICXES8vL61du1Yff/yxIiMj9dJLL+mqq67S/v37Kz3HuVO0q1at0rZt25y3nTt3uvQ6wAEDBuinn37SkiVLtHHjRm3cuFHS2YsvKsP6/09b//Ifb8uyKv0P+i81bNiwSvt5ql9ezexwOFw6RS9JderUueAlBqdPn3Zpjl/uX1XXXnutunTporfeektZWVnavn27EhISKr3/r30/zh879/fO1e9RVfn6+lbbXNXxs75Uv/U77aquXbuqWbNmWrp0qcv7x8bGav369frPf/6jOnXqKDIyUjExMcrIyHD59G91GTBggMrLy7Vq1Srl5ORo/fr1Gj58eJXmmj17tlavXq0PPvhA/v7+1Zy08vbt26fDhw+rvLxcBw4ccHn/6npeQNVRAC8zDodDvXv31tNPP62tW7fK29tb77//fqX3j4yMlI+Pjw4ePKh27dpVuFX2NWY//fSTdu3apZkzZ+qWW25Rhw4dXF6JbNeunby9vfXFF184x06fPq3NmzerQ4cOLs3lqby9vSu9+lJTmjVrptzcXOd2UVGRS//hkM7+rOvVq6cNGzY4xwoKCvTtt9+6nOfBBx/U0qVL9cYbb+jWW291+XWR1en84zm3HRERUelVnYiICPn6+urTTz+tiXguu9Tjadu2rerVq6evv/7aOVZUVKQ9e/a4nKVt27Zat26d/vnPf2rChAku7XvudYDz589XTEyMHA6HYmJilJ6eblsB9PX11aBBg/T222/rb3/7m9q3b6/u3bu7PM/KlSs1a9Ys/f3vf1fbtm1rIGnllJaWatiwYbrvvvs0e/ZsjRo1SkeOHHFpjup8XkDV8DYwl5GNGzfq008/Vd++fdW8eXNt3LhRP/zwg0uFyd/fX5MnT9bEiRNVXl6uPn36qKioSJmZmfLz86vUVWmNGzdWkyZN9Nprr6lFixY6ePCgpk2b5tKxNGzYUGPHjtXjjz+uoKAgXXnllZo7d65OnjypUaNGuTSXp2rdurU2btyo7Oxs+fn5KSgoqNZP99x888168803NWDAADVu3FhPPPGEy6et/Pz8NGrUKD3++ONq0qSJgoODNWPGjCody7BhwzR58mQtWbKkUleF1qScnBxNmjRJY8aMUVZWll566SWXrm6uX7++pk6dqilTpsjb21u9e/fWDz/8oB07dtjyO3Cpx+Pv76/4+Hjn73Tz5s311FNPqU6dOlVa1W/fvr3WrVun2NhY1a1bt9LvhxkYGKiuXbvqr3/9qxYsWCDpbCm85557dPr06SpfNXuphg0bpgEDBmjHjh1VWv375ptvNGLECE2dOlXXXHON8vLyJJ39j2Jtv33VjBkzVFhYqIULF8rPz08ff/yxRo0apY8++qjSc1Tn8wKqhgJ4GQkICNDnn3+u+fPnq6ioSK1atdKLL76ofv36uTTPM888o+bNmyslJUX79u1To0aN1K1bN/3xj3+s1P516tTR8uXL9eijj6pjx4666qqrtHDhQpefWOfMmaPy8nLdf//9Ki4uVlRUlD755BM1btzYpXk81eTJkxUfH6/IyEidOnVK+/fvd/ktKC7V9OnTtW/fPt1xxx0KDAzUM8884/IKoCQ9//zzOn78uAYOHCh/f3/94Q9/UGFhocvzBAQEaPDgwVq1apXtn2IwYsQInTp1Stdff728vLw0YcIEPfTQQy7N8cQTT6hu3bp68skndfjwYbVo0UIPP/xwDSX+bdVxPKmpqXr44Yd1xx13KCAgQFOmTFFOTo7Lrw8756qrrtJnn32m2NhYeXl5VbqQ3nTTTcrKynI+JzVu3FiRkZE6fPiwbWcYbr75ZgUFBWn37t0aOnSoy/tv3rxZJ0+e1OzZszV79mzn+LnVzdqSnp6u+fPna926dQoICJAk/eUvf1Hnzp21ePFijR07ttJzVdfzAqrGYXEiHsBlJC4uTh06dNDChQtty8CntFTOiRMn1LJlS7344ous7LuZIUOGyMvLS3/961/tjlIBv1u1h7VWAJeFo0ePavny5frss8/0yCOP2B0Hv2Lr1q3629/+pr179yorK8v5Pnd33nmnzclwzpkzZ7Rz50599dVXuuaaa+yOAxtxChjAZaFbt24qKCjQc889x1tFuLEXXnhBu3fvlre3t7p3767169d7xGfneopvvvlGvXr10k033WTbyw3gHjgFDAAAYBhOAQMAABiGAggAAGAYCiAAAIBhKIAAAACGoQACAAAYhgIIwKMkJCRU+VNCYmNjlZiYWGEsPT1dDodDx44du+RsAOAuKIAAUAssy9KZM2fsjgEAkiiAAAyyc+dO3X777fLz81NwcLDuv/9+/fjjj5LOrhxmZGRowYIFcjgccjgcys7O1k033STp7OfJOhwOJSQkSDpb6ObOnas2bdrI19dXXbp00YoVK5xf69zK4SeffKKoqCj5+Pho/fr1tX7MAPBrKIAAjJCbm6uYmBh17dpVmzdv1urVq3XkyBHde++9kqQFCxYoOjpao0ePVm5urnJzcxUWFqaVK1dKknbv3q3c3FwtWLBAkjRz5kwtXbpUixcv1o4dOzRx4kQNHz5cGRkZFb7ulClTlJKSol27dqlz5861e9AAcBF8FBwAIyxevFjdunVTcnKyc+yNN95QWFiYvv32W7Vv317e3t5q0KCBQkJCnI8JCgqSJDVv3lyNGjWSJJ04cUKpqan67LPPFB0dLUlq06aNvvjiC7366quKiYlx7j9r1izFxcXVwhECQOVRAAEYYcuWLVq3bp38/PwuuG/v3r1q3759pefauXOnfv755wuKXWlpqa699toKY1FRUVULDAA1iAIIwAjl5eUaMGCAnnvuuQvua9GihctzSdKqVavUsmXLCvf5+PhU2G7YsKGLSQGg5lEAARihW7duWrlypVq3bq26dX/9qc/b21tlZWUXjEmqMB4ZGSkfHx8dPHiwwuleALhcUAABeJzCwkJt27atwtiYMWO0ZMkSDRkyRI8//riaNm2q7777TsuXL9eSJUvk5eWl1q1ba+PGjcrOzpafn5+CgoLUqlUrORwOffTRR7r99tvl6+srf39/TZ48WRMnTlR5ebn69OmjoqIiZWZmys/PT/Hx8fYcOABUElcBA/A46enpuvbaayvcnnzySX355ZcqKyvTbbfdpo4dO+qxxx5TYGCg6tQ5+1Q4efJkeXl5KTIyUs2aNdPBgwfVsmVLPf3005o2bZqCg4M1fvx4SdIzzzyjJ598UikpKerQoYNuu+02ffjhhwoPD7fz0AGgUhyWZVl2hwAAAEDtYQUQAADAMBRAAAAAw1AAAQAADEMBBAAAMAwFEAAAwDAUQAAAAMNQAAEAAAxDAQQAADAMBRAAAMAwFEAAAADDUAABAAAMQwEEAAAwzP8HDoMk8n+IY/kAAAAASUVORK5CYII=' width=640.0/>\n",
       "            </div>\n",
       "        "
      ],
      "text/plain": [
       "Canvas(toolbar=Toolbar(toolitems=[('Home', 'Reset original view', 'home', 'home'), ('Back', 'Back to previous …"
      ]
     },
     "metadata": {},
     "output_type": "display_data"
    }
   ],
   "source": [
    "letter_ratio = letter_freq/len(valid)*100\n",
    "\n",
    "plt.figure()\n",
    "plt.bar([letters[i] for i in freq_sort], [letter_ratio[i] for i in freq_sort])\n",
    "\n",
    "plt.xlabel('Letter')\n",
    "plt.ylabel('Found in (% of words)')"
   ]
  },
  {
   "cell_type": "code",
   "execution_count": 7,
   "id": "ea7f9a1f",
   "metadata": {},
   "outputs": [],
   "source": [
    "#Make functions for scoring guesses\n",
    "def find_letter_idxs(letter, sol):\n",
    "    idxs = np.nonzero(letter == np.array(list(sol)))\n",
    "    \n",
    "    return idxs[0]\n",
    "\n",
    "def score_word(guess, sol):\n",
    "    guess_letters = list(guess)\n",
    "    sol_letters = list(sol)\n",
    "    score = np.zeros(5, int)\n",
    "    \n",
    "    accounted_idxs = []\n",
    "    \n",
    "    for i, letter in enumerate(guess_letters):\n",
    "        if sol_letters[i] == letter:\n",
    "            score[i]=2\n",
    "            accounted_idxs.append(i)\n",
    "\n",
    "    for i, letter in enumerate(guess_letters):  \n",
    "        if letter in sol_letters and score[i] != 2:\n",
    "            letter_idxs = find_letter_idxs(letter, sol)\n",
    "            \n",
    "            for pos in letter_idxs:\n",
    "                if pos not in accounted_idxs:\n",
    "                    score[i]=1\n",
    "                    accounted_idxs.append(pos)\n",
    "                    break\n",
    "        else:\n",
    "            pass\n",
    "        \n",
    "    return score"
   ]
  },
  {
   "cell_type": "code",
   "execution_count": 8,
   "id": "2c2a1cd3",
   "metadata": {},
   "outputs": [],
   "source": [
    "#Make list with all possible scoring patterns\n",
    "base_patterns = list(itertools.combinations_with_replacement([0,1,2],5))\n",
    "\n",
    "all_patterns = []\n",
    "\n",
    "for pattern in base_patterns:\n",
    "    all_patterns.append(list(itertools.permutations(pattern)))\n",
    "    \n",
    "all_patterns = [item for sublist in all_patterns for item in sublist]\n",
    "\n",
    "patterns = list(dict.fromkeys(all_patterns))"
   ]
  },
  {
   "cell_type": "code",
   "execution_count": 9,
   "id": "9c0f6123-fe14-482a-a73e-81f9e5062b78",
   "metadata": {},
   "outputs": [],
   "source": [
    "#Function to calculate entroy for words in a list\n",
    "def calculate_entropy(guess_pool, solution_pool):\n",
    "    \n",
    "    entropies_dict = {}\n",
    "    scores_dict = {}\n",
    "\n",
    "    for guess in guess_pool:\n",
    "\n",
    "        scores = []\n",
    "        for answer in solution_pool:\n",
    "            scores.append(score_word(guess, answer))\n",
    "\n",
    "        scores_arr = np.array(scores)\n",
    "\n",
    "        #Store patterns and their probabilities\n",
    "        score_patterns, score_counts = np.unique(scores_arr, axis=0, return_counts=True)\n",
    "        score_sort = np.argsort(score_counts)[::-1]\n",
    "\n",
    "        score_patterns_str = np.array([''.join(str(i) for i in list(pat)) for pat in score_patterns])\n",
    "\n",
    "        scores_dict[guess] = [score_patterns, score_counts]\n",
    "\n",
    "        #Calculate and stroe entropy\n",
    "        entropies_dict[guess] = entropy(score_counts, base=2)\n",
    "        \n",
    "    return entropies_dict, scores_dict"
   ]
  },
  {
   "cell_type": "code",
   "execution_count": 14,
   "id": "ab08b254-bec1-4646-a011-be0c4500532a",
   "metadata": {},
   "outputs": [],
   "source": [
    "#Load or calculate the initial average entropy of every word in the valid pool:\n",
    "try:\n",
    "    #Load results\n",
    "    entropies_dict = fl.load(Path('entropies_dict.h5'))\n",
    "    scores_dict = fl.load(Path('scores_dict.h5'))\n",
    "    \n",
    "except OSError:\n",
    "    #Calculate\n",
    "    calculate_entropy([valid + answers], [valid + answers])\n",
    "    \n",
    "    #Store results\n",
    "    fl.save(Path('entropies_dict.h5'), entropies_dict)\n",
    "    fl.save(Path('scores_dict.h5'),scores_dict)"
   ]
  },
  {
   "cell_type": "code",
   "execution_count": 15,
   "id": "be590cdc",
   "metadata": {},
   "outputs": [],
   "source": [
    "cols = ['darkgray', 'gold', 'green']\n",
    "\n",
    "def pattern_to_string(pattern):\n",
    "    return ''.join(str(i) for i in list(pattern))\n",
    "\n",
    "def plot_pattern_score(guess):\n",
    "    \n",
    "    try:\n",
    "    \n",
    "        fig, axes = plt.subplots(1,2, figsize=(8,4))\n",
    "\n",
    "        score_patterns, score_counts = scores_dict[guess] \n",
    "        entropy = entropies_dict[guess]\n",
    "\n",
    "        score_sort = np.argsort(score_counts)[::-1]\n",
    "        score_patterns_str = np.array([pattern_to_string(pattern) for pattern in score_patterns]) \n",
    "\n",
    "        axes[0].bar(np.arange(score_patterns.shape[0]), score_counts[score_sort]/len(answers))\n",
    "\n",
    "        axes[0].set_xticks(np.arange(score_counts.shape[0]))\n",
    "        axes[0].set_xticklabels(score_patterns_str[score_sort], rotation=90)\n",
    "        axes[0].set_xlim(-.5,10.5)\n",
    "\n",
    "        axes[0].set_ylabel('Score pattern probability')\n",
    "\n",
    "        counts_norm = score_counts/np.sum(score_counts)\n",
    "        order = np.argsort(counts_norm)[::-1]\n",
    "        score_patterns_ord = score_patterns[order]\n",
    "        counts_norm_ord = counts_norm[order]\n",
    "\n",
    "        for let in range(5):\n",
    "            for i, (pat, count) in enumerate(zip(score_patterns_ord[:, let], counts_norm_ord)):\n",
    "                axes[1].bar(let, count, bottom=np.sum(counts_norm_ord[:i]), color=cols[pat])\n",
    "\n",
    "\n",
    "        axes[1].set_ylabel('Pattern probability')\n",
    "        axes[1].set_xticks(range(5))\n",
    "        axes[1].set_xticklabels([x.upper() for x in guess])\n",
    "\n",
    "        plt.suptitle('{} - {:.2f} bits'.format(guess.upper(), entropy))\n",
    "        plt.tight_layout();\n",
    "        \n",
    "    except KeyError:\n",
    "        pass"
   ]
  },
  {
   "cell_type": "code",
   "execution_count": 16,
   "id": "db388daa",
   "metadata": {
    "scrolled": true
   },
   "outputs": [
    {
     "data": {
      "text/plain": [
       "['soare',\n",
       " 'roate',\n",
       " 'raise',\n",
       " 'raile',\n",
       " 'reast',\n",
       " 'slate',\n",
       " 'crate',\n",
       " 'salet',\n",
       " 'irate',\n",
       " 'trace']"
      ]
     },
     "execution_count": 16,
     "metadata": {},
     "output_type": "execute_result"
    }
   ],
   "source": [
    "#Get a list of ordered words (with decreasing entropy)\n",
    "entropy_order = np.argsort([entropies_dict[word] for word in (valid+answers)])[::-1]\n",
    "guesses_ordered = [(valid+answers)[i] for i in entropy_order]\n",
    "guesses_ordered[:10]"
   ]
  },
  {
   "cell_type": "markdown",
   "id": "4f30d77d-dccf-44e2-9186-4c22229ac1d0",
   "metadata": {},
   "source": [
    "Make some visualization to see how words compare to each other:"
   ]
  },
  {
   "cell_type": "code",
   "execution_count": 17,
   "id": "df03c83c",
   "metadata": {},
   "outputs": [
    {
     "data": {
      "application/vnd.jupyter.widget-view+json": {
       "model_id": "d591e4b7239e408280893b34215b301f",
       "version_major": 2,
       "version_minor": 0
      },
      "text/plain": [
       "interactive(children=(Text(value='', description='Guess word:', placeholder='Type something'), Output()), _dom…"
      ]
     },
     "metadata": {},
     "output_type": "display_data"
    },
    {
     "data": {
      "text/plain": [
       "<function __main__.plot_pattern_score(guess)>"
      ]
     },
     "execution_count": 17,
     "metadata": {},
     "output_type": "execute_result"
    },
    {
     "data": {
      "application/vnd.jupyter.widget-view+json": {
       "model_id": "37f798ea0ff84846ac9d551e07a23032",
       "version_major": 2,
       "version_minor": 0
      },
      "text/html": [
       "\n",
       "            <div style=\"display: inline-block;\">\n",
       "                <div class=\"jupyter-widgets widget-label\" style=\"text-align: center;\">\n",
       "                    Figure\n",
       "                </div>\n",
       "                <img src='data:image/png;base64,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' width=800.0/>\n",
       "            </div>\n",
       "        "
      ],
      "text/plain": [
       "Canvas(toolbar=Toolbar(toolitems=[('Home', 'Reset original view', 'home', 'home'), ('Back', 'Back to previous …"
      ]
     },
     "metadata": {},
     "output_type": "display_data"
    }
   ],
   "source": [
    "interact(plot_pattern_score,\n",
    "        guess = Text(placeholder='Type something', description='Guess word:'), continuous_update=False)"
   ]
  },
  {
   "cell_type": "code",
   "execution_count": 19,
   "id": "5fb97a71-e176-45be-8d0e-a892836939a8",
   "metadata": {},
   "outputs": [],
   "source": [
    "#Function to remove invalid guesses from solution pool\n",
    "def modify_word_list(word, letter_status, sol_pool):\n",
    "    \n",
    "    word_list = sol_pool\n",
    "    \n",
    "    new_word_list = []\n",
    "    correct_letters = []\n",
    "    present_letters = []\n",
    "    \n",
    "    for i in range(len(word)):\n",
    "        if letter_status[i] == 2:\n",
    "            correct_letters.append(word[i])\n",
    "            for w in word_list:\n",
    "                if w[i] == word[i]:\n",
    "                    new_word_list.append(w)\n",
    "            word_list = new_word_list\n",
    "            new_word_list = []\n",
    "    for i in range(len(word)):\n",
    "        if letter_status[i] == 1:\n",
    "            present_letters.append(word[i])\n",
    "            for w in word_list:\n",
    "                if word[i] in w and word[i] != w[i]:\n",
    "                    new_word_list.append(w)\n",
    "            word_list = new_word_list\n",
    "            new_word_list = []\n",
    "    for i in range(len(word)):\n",
    "        if (\n",
    "            letter_status[i] == 0\n",
    "            and word[i] not in correct_letters\n",
    "            and word[i] not in present_letters\n",
    "        ):\n",
    "            for w in word_list:\n",
    "                if word[i] not in w:\n",
    "                    new_word_list.append(w)\n",
    "            word_list = new_word_list\n",
    "            new_word_list = []\n",
    "\n",
    "    return word_list\n"
   ]
  },
  {
   "cell_type": "code",
   "execution_count": 20,
   "id": "d13cd0b9",
   "metadata": {},
   "outputs": [],
   "source": [
    "def return_best_guess(entropies_dict):\n",
    "    entropy_order = np.argsort([entropies_dict[word] for word in entropies_dict.keys()])[::-1]\n",
    "    guesses_ordered = [list(entropies_dict.keys())[i] for i in entropy_order]\n",
    "    \n",
    "    return guesses_ordered"
   ]
  },
  {
   "cell_type": "markdown",
   "id": "5327771e-8405-4301-bde5-59d68c56a775",
   "metadata": {},
   "source": [
    "Here we start dealing with the interaction with the webpage:"
   ]
  },
  {
   "cell_type": "code",
   "execution_count": 21,
   "id": "451be0e8-c4b9-4887-b757-3c34185e71a0",
   "metadata": {},
   "outputs": [],
   "source": [
    "from selenium import webdriver\n",
    "from selenium.webdriver.chrome.service import Service\n",
    "from selenium.webdriver.common.by import By\n",
    "from selenium import webdriver"
   ]
  },
  {
   "cell_type": "code",
   "execution_count": 22,
   "id": "383cfd76-388d-4e13-9285-ab9650cb016f",
   "metadata": {},
   "outputs": [],
   "source": [
    "def start_game(driver, mode='free'):\n",
    "    driver.get(\"http://sedecordle.com\")\n",
    "    elem1 = driver.find_element(By.ID, mode)\n",
    "    elem1.click()"
   ]
  },
  {
   "cell_type": "code",
   "execution_count": 23,
   "id": "b3248601-4da4-4c99-be7f-a27b582013df",
   "metadata": {},
   "outputs": [],
   "source": [
    "def introduce_word(driver, word):\n",
    "    for letter in word:\n",
    "        elem = driver.find_element(By.ID, letter)\n",
    "        elem.click()\n",
    "    elem = driver.find_element(By.ID, \"enter2\")\n",
    "    elem.click()"
   ]
  },
  {
   "cell_type": "code",
   "execution_count": 24,
   "id": "0b89e8db-36f7-4834-a94d-82e80ccabfd8",
   "metadata": {},
   "outputs": [],
   "source": [
    "def evaluate_word(driver, word_n, guess_n):\n",
    "    score = []\n",
    "\n",
    "    for i in range(5):\n",
    "        boxstyle = driver.find_element(By.ID, \"box{},{},{}\".format(word_n+1, guess_n+1, i+1)).get_attribute(\"style\")\n",
    "\n",
    "        if \"(24, \" in boxstyle:\n",
    "            score.append(0)\n",
    "        if \"(255, \" in boxstyle:\n",
    "            score.append(1)\n",
    "        if \"(0, \" in boxstyle:\n",
    "            score.append(2)\n",
    "            \n",
    "    return score"
   ]
  },
  {
   "cell_type": "code",
   "execution_count": 26,
   "id": "bcca9121-fe75-49f8-a0b0-1d86ea347775",
   "metadata": {},
   "outputs": [
    {
     "name": "stdout",
     "output_type": "stream",
     "text": [
      "[4, 183, 138, 19, 33, 13, 138, 138, 9, 87, 117, 59, 61, 44, 87, 117]\n",
      "While loop 1\n",
      "trying to solve word 0\n",
      "Word 0 solved!!\n",
      "[4, 117, 92, 6, 20, 4, 92, 92, 8, 58, 83, 41, 35, 29, 9, 83]\n",
      "While loop 2\n",
      "trying to solve word 5\n",
      "[0, 52, 4, 5, 15, 1, 1, 13, 2, 26, 30, 8, 13, 7, 4, 6]\n",
      "While loop 3\n",
      "trying to solve word 5\n",
      "Word 5 solved!!\n",
      "[0, 19, 4, 1, 13, 1, 1, 1, 2, 15, 17, 4, 10, 6, 3, 1]\n",
      "While loop 4\n",
      "trying to solve word 3\n",
      "Word 3 solved!!\n",
      "[0, 19, 4, 1, 13, 0, 1, 1, 2, 15, 17, 3, 10, 6, 2, 1]\n",
      "While loop 5\n",
      "trying to solve word 6\n",
      "Word 6 solved!!\n",
      "[0, 7, 1, 0, 2, 0, 1, 1, 1, 13, 10, 1, 8, 2, 1, 1]\n",
      "While loop 6\n",
      "trying to solve word 2\n",
      "Word 2 solved!!\n",
      "[0, 7, 1, 0, 1, 0, 0, 1, 1, 10, 10, 1, 6, 2, 1, 1]\n",
      "While loop 7\n",
      "trying to solve word 4\n",
      "Word 4 solved!!\n",
      "[0, 6, 0, 0, 1, 0, 0, 1, 1, 8, 8, 1, 5, 2, 1, 1]\n",
      "While loop 8\n",
      "trying to solve word 7\n",
      "Word 7 solved!!\n",
      "[0, 6, 0, 0, 1, 0, 0, 1, 1, 8, 8, 1, 5, 2, 1, 1]\n",
      "While loop 9\n",
      "trying to solve word 8\n",
      "Word 8 solved!!\n",
      "[0, 3, 0, 0, 1, 0, 0, 0, 1, 2, 1, 1, 3, 2, 1, 1]\n",
      "While loop 10\n",
      "trying to solve word 10\n",
      "Word 10 solved!!\n",
      "[0, 3, 0, 0, 0, 0, 0, 0, 0, 2, 1, 1, 3, 2, 1, 1]\n",
      "While loop 11\n",
      "trying to solve word 11\n",
      "Word 11 solved!!\n",
      "[0, 3, 0, 0, 0, 0, 0, 0, 0, 1, 0, 1, 3, 2, 1, 1]\n",
      "While loop 12\n",
      "trying to solve word 9\n",
      "Word 9 solved!!\n",
      "[0, 3, 0, 0, 0, 0, 0, 0, 0, 1, 0, 0, 3, 2, 1, 1]\n",
      "While loop 13\n",
      "trying to solve word 14\n",
      "Word 14 solved!!\n",
      "[0, 3, 0, 0, 0, 0, 0, 0, 0, 0, 0, 0, 3, 2, 1, 1]\n",
      "While loop 14\n",
      "trying to solve word 15\n",
      "Word 15 solved!!\n",
      "[0, 3, 0, 0, 0, 0, 0, 0, 0, 0, 0, 0, 3, 2, 1, 1]\n",
      "While loop 15\n",
      "trying to solve word 13\n",
      "Word 13 solved!!\n",
      "[0, 3, 0, 0, 0, 0, 0, 0, 0, 0, 0, 0, 3, 2, 0, 1]\n",
      "While loop 16\n",
      "trying to solve word 1\n",
      "Word 1 solved!!\n",
      "[0, 3, 0, 0, 0, 0, 0, 0, 0, 0, 0, 0, 1, 2, 0, 1]\n",
      "While loop 17\n",
      "trying to solve word 12\n"
     ]
    },
    {
     "ename": "AttributeError",
     "evalue": "'NoneType' object has no attribute 'get_attribute'",
     "output_type": "error",
     "traceback": [
      "\u001b[0;31m---------------------------------------------------------------------------\u001b[0m",
      "\u001b[0;31mAttributeError\u001b[0m                            Traceback (most recent call last)",
      "\u001b[0;32m/tmp/ipykernel_98838/1429129960.py\u001b[0m in \u001b[0;36m<module>\u001b[0;34m\u001b[0m\n\u001b[1;32m     49\u001b[0m \u001b[0;34m\u001b[0m\u001b[0m\n\u001b[1;32m     50\u001b[0m     \u001b[0;32mfor\u001b[0m \u001b[0mword\u001b[0m \u001b[0;32min\u001b[0m \u001b[0mrange\u001b[0m\u001b[0;34m(\u001b[0m\u001b[0;36m16\u001b[0m\u001b[0;34m)\u001b[0m\u001b[0;34m:\u001b[0m\u001b[0;34m\u001b[0m\u001b[0;34m\u001b[0m\u001b[0m\n\u001b[0;32m---> 51\u001b[0;31m         \u001b[0mscore\u001b[0m \u001b[0;34m=\u001b[0m \u001b[0mevaluate_word\u001b[0m\u001b[0;34m(\u001b[0m\u001b[0mdriver\u001b[0m\u001b[0;34m,\u001b[0m \u001b[0mword\u001b[0m\u001b[0;34m,\u001b[0m \u001b[0mattempt\u001b[0m\u001b[0;34m)\u001b[0m\u001b[0;34m\u001b[0m\u001b[0;34m\u001b[0m\u001b[0m\n\u001b[0m\u001b[1;32m     52\u001b[0m \u001b[0;34m\u001b[0m\u001b[0m\n\u001b[1;32m     53\u001b[0m         \u001b[0;32mif\u001b[0m \u001b[0mscore\u001b[0m \u001b[0;34m==\u001b[0m \u001b[0;34m[\u001b[0m\u001b[0;36m2\u001b[0m\u001b[0;34m,\u001b[0m\u001b[0;36m2\u001b[0m\u001b[0;34m,\u001b[0m\u001b[0;36m2\u001b[0m\u001b[0;34m,\u001b[0m\u001b[0;36m2\u001b[0m\u001b[0;34m,\u001b[0m\u001b[0;36m2\u001b[0m\u001b[0;34m]\u001b[0m\u001b[0;34m:\u001b[0m\u001b[0;34m\u001b[0m\u001b[0;34m\u001b[0m\u001b[0m\n",
      "\u001b[0;32m/tmp/ipykernel_98838/1619558527.py\u001b[0m in \u001b[0;36mevaluate_word\u001b[0;34m(driver, word_n, guess_n)\u001b[0m\n\u001b[1;32m      3\u001b[0m \u001b[0;34m\u001b[0m\u001b[0m\n\u001b[1;32m      4\u001b[0m     \u001b[0;32mfor\u001b[0m \u001b[0mi\u001b[0m \u001b[0;32min\u001b[0m \u001b[0mrange\u001b[0m\u001b[0;34m(\u001b[0m\u001b[0;36m5\u001b[0m\u001b[0;34m)\u001b[0m\u001b[0;34m:\u001b[0m\u001b[0;34m\u001b[0m\u001b[0;34m\u001b[0m\u001b[0m\n\u001b[0;32m----> 5\u001b[0;31m         \u001b[0mboxstyle\u001b[0m \u001b[0;34m=\u001b[0m \u001b[0mdriver\u001b[0m\u001b[0;34m.\u001b[0m\u001b[0mfind_element\u001b[0m\u001b[0;34m(\u001b[0m\u001b[0mBy\u001b[0m\u001b[0;34m.\u001b[0m\u001b[0mID\u001b[0m\u001b[0;34m,\u001b[0m \u001b[0;34m\"box{},{},{}\"\u001b[0m\u001b[0;34m.\u001b[0m\u001b[0mformat\u001b[0m\u001b[0;34m(\u001b[0m\u001b[0mword_n\u001b[0m\u001b[0;34m+\u001b[0m\u001b[0;36m1\u001b[0m\u001b[0;34m,\u001b[0m \u001b[0mguess_n\u001b[0m\u001b[0;34m+\u001b[0m\u001b[0;36m1\u001b[0m\u001b[0;34m,\u001b[0m \u001b[0mi\u001b[0m\u001b[0;34m+\u001b[0m\u001b[0;36m1\u001b[0m\u001b[0;34m)\u001b[0m\u001b[0;34m)\u001b[0m\u001b[0;34m.\u001b[0m\u001b[0mget_attribute\u001b[0m\u001b[0;34m(\u001b[0m\u001b[0;34m\"style\"\u001b[0m\u001b[0;34m)\u001b[0m\u001b[0;34m\u001b[0m\u001b[0;34m\u001b[0m\u001b[0m\n\u001b[0m\u001b[1;32m      6\u001b[0m \u001b[0;34m\u001b[0m\u001b[0m\n\u001b[1;32m      7\u001b[0m         \u001b[0;32mif\u001b[0m \u001b[0;34m\"(24, \"\u001b[0m \u001b[0;32min\u001b[0m \u001b[0mboxstyle\u001b[0m\u001b[0;34m:\u001b[0m\u001b[0;34m\u001b[0m\u001b[0;34m\u001b[0m\u001b[0m\n",
      "\u001b[0;31mAttributeError\u001b[0m: 'NoneType' object has no attribute 'get_attribute'"
     ]
    }
   ],
   "source": [
    "#Main loop\n",
    "n_words = 16\n",
    "unsolved_words = [n for n in range(n_words)]\n",
    "attempt = 0\n",
    "\n",
    "solver = {word:{} for word in range(n_words)}\n",
    "\n",
    "#Initialize browser interface\n",
    "driver = webdriver.Chrome(service=Service())\n",
    "\n",
    "#Open sedecordle website and start game\n",
    "start_game(driver)\n",
    "\n",
    "#Introduce first guess\n",
    "guess = return_best_guess(entropies_dict)[0]\n",
    "introduce_word(driver, guess)\n",
    "\n",
    "#Evaluate results\n",
    "for word in range(16):\n",
    "    score = evaluate_word(driver, word, attempt)\n",
    "    sol_pool = modify_word_list(guess, score, answers)\n",
    "    solver[word] = sol_pool\n",
    "attempt +=1\n",
    "\n",
    "print([len(solver[word]) for word in range(n_words)])\n",
    "    \n",
    "while len(unsolved_words)!=0:\n",
    "    print('While loop {}'.format(attempt))\n",
    "    \n",
    "    #Find word with less options\n",
    "    options_per_word = [len(solver[word]) for word in range(n_words)]\n",
    "    words_sorted = np.argsort(options_per_word)\n",
    "    \n",
    "    for word in words_sorted:\n",
    "        if word not in unsolved_words:\n",
    "            continue\n",
    "        else:\n",
    "            next_word = word\n",
    "            break\n",
    "    print('trying to solve word {}'.format(next_word))\n",
    "\n",
    "    #Calculate next best guess and introduce\n",
    "    if next_word in unsolved_words:\n",
    "        entropies, scores = calculate_entropy(solver[next_word], solver[next_word])\n",
    "        guess = return_best_guess(entropies)[0]\n",
    "        introduce_word(driver, guess)\n",
    "    else:\n",
    "        pass\n",
    "        \n",
    "    for word in range(16):\n",
    "        score = evaluate_word(driver, word, attempt)\n",
    "        \n",
    "        if score == [2,2,2,2,2]:\n",
    "            unsolved_words.remove(word)\n",
    "            print('Word {} solved!!'.format(word))\n",
    "        else:\n",
    "            sol_pool = modify_word_list(guess, score, solver[word])\n",
    "            solver[word] = sol_pool\n",
    "        \n",
    "    attempt +=1\n",
    "    print([len(solver[word]) for word in range(n_words)])\n",
    "\n",
    "print('Sedecordle solved!!')"
   ]
  },
  {
   "cell_type": "code",
   "execution_count": null,
   "id": "c3ce9eb9",
   "metadata": {},
   "outputs": [],
   "source": []
  },
  {
   "cell_type": "code",
   "execution_count": null,
   "id": "8bdfe650",
   "metadata": {},
   "outputs": [],
   "source": [
    "#Make some stats\n",
    "solved = 0\n",
    "atts = []\n",
    "\n",
    "for i in tqdm(range(100)):\n",
    "\n",
    "    #Main loop\n",
    "    n_words = 16\n",
    "    unsolved_words = [n for n in range(n_words)]\n",
    "    attempt = 0\n",
    "\n",
    "    solver = {word:{} for word in range(n_words)}\n",
    "\n",
    "    #Initialize browser interface\n",
    "    driver = webdriver.Chrome(service=Service())\n",
    "\n",
    "    #Open sedecordle website and start game\n",
    "    start_game(driver)\n",
    "\n",
    "    #Introduce first guess\n",
    "    guess = return_best_guess(entropies_dict)[0]\n",
    "    introduce_word(driver, guess)\n",
    "\n",
    "    #Evaluate results\n",
    "    for word in range(16):\n",
    "        score = evaluate_word(driver, word, attempt)\n",
    "        sol_pool = modify_word_list(guess, score, answers)\n",
    "        solver[word] = sol_pool\n",
    "    attempt +=1\n",
    "\n",
    "    while len(unsolved_words)!=0:\n",
    "\n",
    "        #Find word with less options\n",
    "        options_per_word = [len(solver[word]) for word in range(n_words)]\n",
    "        words_sorted = np.argsort(options_per_word)\n",
    "\n",
    "        for word in words_sorted:\n",
    "            if word not in unsolved_words:\n",
    "                continue\n",
    "            else:\n",
    "                next_word = word\n",
    "                break\n",
    "\n",
    "        #Calculate next best guess and introduce\n",
    "        if next_word in unsolved_words:\n",
    "            entropies, scores = calculate_entropy(solver[next_word], solver[next_word])\n",
    "            guess = return_best_guess(entropies)[0]\n",
    "            introduce_word(driver, guess)\n",
    "        else:\n",
    "            pass\n",
    "\n",
    "        for word in range(16):\n",
    "            score = evaluate_word(driver, word, attempt)\n",
    "\n",
    "            if score == [2,2,2,2,2]:\n",
    "                unsolved_words.remove(word)\n",
    "            else:\n",
    "                sol_pool = modify_word_list(guess, score, solver[word])\n",
    "                solver[word] = sol_pool\n",
    "\n",
    "        attempt +=1\n",
    "        if attempt == 21:\n",
    "            break\n",
    "\n",
    "    if len(unsolved_words)==0:\n",
    "        solved+=1\n",
    "    atts.append(attempt)\n",
    "    driver.quit()\n"
   ]
  },
  {
   "cell_type": "code",
   "execution_count": null,
   "id": "b153cfd7-75a9-47d3-b76f-f67a9c616879",
   "metadata": {},
   "outputs": [],
   "source": []
  },
  {
   "cell_type": "code",
   "execution_count": 27,
   "id": "3a75f6c9-5e6e-4913-8a40-097c89c0c75b",
   "metadata": {},
   "outputs": [],
   "source": [
    "test_run_results = fl.load('test_run_results.h5')\n",
    "\n",
    "attempts, counts = np.unique(test_run_results['attempts'], return_counts=True)\n",
    "attempts = np.append(attempts, 22)\n",
    "\n",
    "counts = np.append(counts, len(test_run_results['attempts'])-test_run_results['solves'])\n",
    "counts[4] = counts[4] - (len(test_run_results['attempts'])-test_run_results['solves'])"
   ]
  },
  {
   "cell_type": "code",
   "execution_count": 28,
   "id": "7a783896-7de7-499b-adb1-054ce88cf2ed",
   "metadata": {},
   "outputs": [
    {
     "data": {
      "application/vnd.jupyter.widget-view+json": {
       "model_id": "738e1fcd30e44cadadda8e66b32628d3",
       "version_major": 2,
       "version_minor": 0
      },
      "text/html": [
       "\n",
       "            <div style=\"display: inline-block;\">\n",
       "                <div class=\"jupyter-widgets widget-label\" style=\"text-align: center;\">\n",
       "                    Figure\n",
       "                </div>\n",
       "                <img src='data:image/png;base64,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' width=640.0/>\n",
       "            </div>\n",
       "        "
      ],
      "text/plain": [
       "Canvas(toolbar=Toolbar(toolitems=[('Home', 'Reset original view', 'home', 'home'), ('Back', 'Back to previous …"
      ]
     },
     "metadata": {},
     "output_type": "display_data"
    }
   ],
   "source": [
    "fig, axes = plt.subplots(1,1)\n",
    "axes.bar(attempts[:-1], counts[:-1])\n",
    "axes.bar(attempts[-1], counts[-1], color='red')\n",
    "\n",
    "axes.set_xticks(attempts)\n",
    "axes.set_xticklabels(list(attempts[:-1])+['Not solved'])\n",
    "axes.set_xlabel('Attempts needed')\n",
    "axes.set_ylabel('Counts');"
   ]
  },
  {
   "cell_type": "code",
   "execution_count": null,
   "id": "1421ccbb",
   "metadata": {},
   "outputs": [],
   "source": []
  },
  {
   "cell_type": "code",
   "execution_count": null,
   "id": "3fc0c490",
   "metadata": {},
   "outputs": [],
   "source": []
  },
  {
   "cell_type": "code",
   "execution_count": null,
   "id": "74777211",
   "metadata": {},
   "outputs": [],
   "source": []
  },
  {
   "cell_type": "code",
   "execution_count": null,
   "id": "c438e8b8",
   "metadata": {},
   "outputs": [],
   "source": []
  },
  {
   "cell_type": "code",
   "execution_count": null,
   "id": "3f52da49",
   "metadata": {},
   "outputs": [],
   "source": []
  },
  {
   "cell_type": "code",
   "execution_count": null,
   "id": "ca4d70e6",
   "metadata": {},
   "outputs": [],
   "source": []
  },
  {
   "cell_type": "code",
   "execution_count": null,
   "id": "9a4a10c8",
   "metadata": {},
   "outputs": [],
   "source": []
  },
  {
   "cell_type": "code",
   "execution_count": null,
   "id": "a4665cb1",
   "metadata": {},
   "outputs": [],
   "source": []
  },
  {
   "cell_type": "code",
   "execution_count": null,
   "id": "a45ea94e",
   "metadata": {},
   "outputs": [],
   "source": []
  },
  {
   "cell_type": "code",
   "execution_count": null,
   "id": "d9af8378",
   "metadata": {},
   "outputs": [],
   "source": []
  },
  {
   "cell_type": "code",
   "execution_count": null,
   "id": "769eed6f",
   "metadata": {},
   "outputs": [],
   "source": []
  },
  {
   "cell_type": "code",
   "execution_count": null,
   "id": "2c75075c",
   "metadata": {},
   "outputs": [],
   "source": []
  },
  {
   "cell_type": "code",
   "execution_count": null,
   "id": "6aa0de85",
   "metadata": {},
   "outputs": [],
   "source": []
  },
  {
   "cell_type": "code",
   "execution_count": null,
   "id": "1d21ef30",
   "metadata": {},
   "outputs": [],
   "source": []
  },
  {
   "cell_type": "code",
   "execution_count": null,
   "id": "fafabe58",
   "metadata": {},
   "outputs": [],
   "source": []
  },
  {
   "cell_type": "code",
   "execution_count": null,
   "id": "cfcb4a39",
   "metadata": {},
   "outputs": [],
   "source": []
  },
  {
   "cell_type": "code",
   "execution_count": null,
   "id": "08602a84",
   "metadata": {},
   "outputs": [],
   "source": []
  },
  {
   "cell_type": "code",
   "execution_count": null,
   "id": "eee2b97c",
   "metadata": {},
   "outputs": [],
   "source": []
  },
  {
   "cell_type": "code",
   "execution_count": null,
   "id": "42aab8fa",
   "metadata": {},
   "outputs": [],
   "source": []
  },
  {
   "cell_type": "code",
   "execution_count": null,
   "id": "242e8c56",
   "metadata": {},
   "outputs": [],
   "source": []
  },
  {
   "cell_type": "code",
   "execution_count": null,
   "id": "41aea64a",
   "metadata": {},
   "outputs": [],
   "source": []
  },
  {
   "cell_type": "code",
   "execution_count": null,
   "id": "bc6d60db",
   "metadata": {},
   "outputs": [],
   "source": []
  },
  {
   "cell_type": "code",
   "execution_count": null,
   "id": "041755d2",
   "metadata": {},
   "outputs": [],
   "source": []
  }
 ],
 "metadata": {
  "kernelspec": {
   "display_name": "Python 3 (ipykernel)",
   "language": "python",
   "name": "python3"
  },
  "language_info": {
   "codemirror_mode": {
    "name": "ipython",
    "version": 3
   },
   "file_extension": ".py",
   "mimetype": "text/x-python",
   "name": "python",
   "nbconvert_exporter": "python",
   "pygments_lexer": "ipython3",
   "version": "3.7.12"
  }
 },
 "nbformat": 4,
 "nbformat_minor": 5
}
